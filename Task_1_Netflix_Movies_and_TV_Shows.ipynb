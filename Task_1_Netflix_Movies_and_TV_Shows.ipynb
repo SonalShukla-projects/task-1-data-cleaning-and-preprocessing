{
  "nbformat": 4,
  "nbformat_minor": 0,
  "metadata": {
    "colab": {
      "provenance": []
    },
    "kernelspec": {
      "name": "python3",
      "display_name": "Python 3"
    },
    "language_info": {
      "name": "python"
    }
  },
  "cells": [
    {
      "cell_type": "markdown",
      "source": [
        "***NETFLIX TV SHOWS & MOVIES***"
      ],
      "metadata": {
        "id": "pjwy0ySJIbCB"
      }
    },
    {
      "cell_type": "markdown",
      "source": [
        " importing csv files\n",
        "\n",
        "\n",
        "\n"
      ],
      "metadata": {
        "id": "eVTu3NODfSu5"
      }
    },
    {
      "cell_type": "code",
      "execution_count": null,
      "metadata": {
        "id": "EnRbCe-CfSFk"
      },
      "outputs": [],
      "source": [
        "import pandas as pd# IMPORTING THE LIBRARY"
      ]
    },
    {
      "cell_type": "markdown",
      "source": [
        " Read and load csv file"
      ],
      "metadata": {
        "id": "QOpdqkBgI36L"
      }
    },
    {
      "cell_type": "code",
      "source": [
        "data = pd.read_csv(\"/content/netflix_titles.csv\")#READING THE DATA\n",
        "data.head()"
      ],
      "metadata": {
        "colab": {
          "base_uri": "https://localhost:8080/",
          "height": 642
        },
        "id": "7EMOotFHfYtQ",
        "outputId": "d54515f2-c8c2-4185-d624-e1b8c1a9dd02"
      },
      "execution_count": null,
      "outputs": [
        {
          "output_type": "execute_result",
          "data": {
            "text/plain": [
              "  show_id     type                  title         director  \\\n",
              "0      s1    Movie   Dick Johnson Is Dead  Kirsten Johnson   \n",
              "1      s2  TV Show          Blood & Water              NaN   \n",
              "2      s3  TV Show              Ganglands  Julien Leclercq   \n",
              "3      s4  TV Show  Jailbirds New Orleans              NaN   \n",
              "4      s5  TV Show           Kota Factory              NaN   \n",
              "\n",
              "                                                cast        country  \\\n",
              "0                                                NaN  United States   \n",
              "1  Ama Qamata, Khosi Ngema, Gail Mabalane, Thaban...   South Africa   \n",
              "2  Sami Bouajila, Tracy Gotoas, Samuel Jouy, Nabi...            NaN   \n",
              "3                                                NaN            NaN   \n",
              "4  Mayur More, Jitendra Kumar, Ranjan Raj, Alam K...          India   \n",
              "\n",
              "           date_added  release_year rating   duration  \\\n",
              "0  September 25, 2021          2020  PG-13     90 min   \n",
              "1  September 24, 2021          2021  TV-MA  2 Seasons   \n",
              "2  September 24, 2021          2021  TV-MA   1 Season   \n",
              "3  September 24, 2021          2021  TV-MA   1 Season   \n",
              "4  September 24, 2021          2021  TV-MA  2 Seasons   \n",
              "\n",
              "                                           listed_in  \\\n",
              "0                                      Documentaries   \n",
              "1    International TV Shows, TV Dramas, TV Mysteries   \n",
              "2  Crime TV Shows, International TV Shows, TV Act...   \n",
              "3                             Docuseries, Reality TV   \n",
              "4  International TV Shows, Romantic TV Shows, TV ...   \n",
              "\n",
              "                                         description  \n",
              "0  As her father nears the end of his life, filmm...  \n",
              "1  After crossing paths at a party, a Cape Town t...  \n",
              "2  To protect his family from a powerful drug lor...  \n",
              "3  Feuds, flirtations and toilet talk go down amo...  \n",
              "4  In a city of coaching centers known to train I...  "
            ],
            "text/html": [
              "\n",
              "  <div id=\"df-25882f4a-e4a7-41bf-a7f2-28b253020104\" class=\"colab-df-container\">\n",
              "    <div>\n",
              "<style scoped>\n",
              "    .dataframe tbody tr th:only-of-type {\n",
              "        vertical-align: middle;\n",
              "    }\n",
              "\n",
              "    .dataframe tbody tr th {\n",
              "        vertical-align: top;\n",
              "    }\n",
              "\n",
              "    .dataframe thead th {\n",
              "        text-align: right;\n",
              "    }\n",
              "</style>\n",
              "<table border=\"1\" class=\"dataframe\">\n",
              "  <thead>\n",
              "    <tr style=\"text-align: right;\">\n",
              "      <th></th>\n",
              "      <th>show_id</th>\n",
              "      <th>type</th>\n",
              "      <th>title</th>\n",
              "      <th>director</th>\n",
              "      <th>cast</th>\n",
              "      <th>country</th>\n",
              "      <th>date_added</th>\n",
              "      <th>release_year</th>\n",
              "      <th>rating</th>\n",
              "      <th>duration</th>\n",
              "      <th>listed_in</th>\n",
              "      <th>description</th>\n",
              "    </tr>\n",
              "  </thead>\n",
              "  <tbody>\n",
              "    <tr>\n",
              "      <th>0</th>\n",
              "      <td>s1</td>\n",
              "      <td>Movie</td>\n",
              "      <td>Dick Johnson Is Dead</td>\n",
              "      <td>Kirsten Johnson</td>\n",
              "      <td>NaN</td>\n",
              "      <td>United States</td>\n",
              "      <td>September 25, 2021</td>\n",
              "      <td>2020</td>\n",
              "      <td>PG-13</td>\n",
              "      <td>90 min</td>\n",
              "      <td>Documentaries</td>\n",
              "      <td>As her father nears the end of his life, filmm...</td>\n",
              "    </tr>\n",
              "    <tr>\n",
              "      <th>1</th>\n",
              "      <td>s2</td>\n",
              "      <td>TV Show</td>\n",
              "      <td>Blood &amp; Water</td>\n",
              "      <td>NaN</td>\n",
              "      <td>Ama Qamata, Khosi Ngema, Gail Mabalane, Thaban...</td>\n",
              "      <td>South Africa</td>\n",
              "      <td>September 24, 2021</td>\n",
              "      <td>2021</td>\n",
              "      <td>TV-MA</td>\n",
              "      <td>2 Seasons</td>\n",
              "      <td>International TV Shows, TV Dramas, TV Mysteries</td>\n",
              "      <td>After crossing paths at a party, a Cape Town t...</td>\n",
              "    </tr>\n",
              "    <tr>\n",
              "      <th>2</th>\n",
              "      <td>s3</td>\n",
              "      <td>TV Show</td>\n",
              "      <td>Ganglands</td>\n",
              "      <td>Julien Leclercq</td>\n",
              "      <td>Sami Bouajila, Tracy Gotoas, Samuel Jouy, Nabi...</td>\n",
              "      <td>NaN</td>\n",
              "      <td>September 24, 2021</td>\n",
              "      <td>2021</td>\n",
              "      <td>TV-MA</td>\n",
              "      <td>1 Season</td>\n",
              "      <td>Crime TV Shows, International TV Shows, TV Act...</td>\n",
              "      <td>To protect his family from a powerful drug lor...</td>\n",
              "    </tr>\n",
              "    <tr>\n",
              "      <th>3</th>\n",
              "      <td>s4</td>\n",
              "      <td>TV Show</td>\n",
              "      <td>Jailbirds New Orleans</td>\n",
              "      <td>NaN</td>\n",
              "      <td>NaN</td>\n",
              "      <td>NaN</td>\n",
              "      <td>September 24, 2021</td>\n",
              "      <td>2021</td>\n",
              "      <td>TV-MA</td>\n",
              "      <td>1 Season</td>\n",
              "      <td>Docuseries, Reality TV</td>\n",
              "      <td>Feuds, flirtations and toilet talk go down amo...</td>\n",
              "    </tr>\n",
              "    <tr>\n",
              "      <th>4</th>\n",
              "      <td>s5</td>\n",
              "      <td>TV Show</td>\n",
              "      <td>Kota Factory</td>\n",
              "      <td>NaN</td>\n",
              "      <td>Mayur More, Jitendra Kumar, Ranjan Raj, Alam K...</td>\n",
              "      <td>India</td>\n",
              "      <td>September 24, 2021</td>\n",
              "      <td>2021</td>\n",
              "      <td>TV-MA</td>\n",
              "      <td>2 Seasons</td>\n",
              "      <td>International TV Shows, Romantic TV Shows, TV ...</td>\n",
              "      <td>In a city of coaching centers known to train I...</td>\n",
              "    </tr>\n",
              "  </tbody>\n",
              "</table>\n",
              "</div>\n",
              "    <div class=\"colab-df-buttons\">\n",
              "\n",
              "  <div class=\"colab-df-container\">\n",
              "    <button class=\"colab-df-convert\" onclick=\"convertToInteractive('df-25882f4a-e4a7-41bf-a7f2-28b253020104')\"\n",
              "            title=\"Convert this dataframe to an interactive table.\"\n",
              "            style=\"display:none;\">\n",
              "\n",
              "  <svg xmlns=\"http://www.w3.org/2000/svg\" height=\"24px\" viewBox=\"0 -960 960 960\">\n",
              "    <path d=\"M120-120v-720h720v720H120Zm60-500h600v-160H180v160Zm220 220h160v-160H400v160Zm0 220h160v-160H400v160ZM180-400h160v-160H180v160Zm440 0h160v-160H620v160ZM180-180h160v-160H180v160Zm440 0h160v-160H620v160Z\"/>\n",
              "  </svg>\n",
              "    </button>\n",
              "\n",
              "  <style>\n",
              "    .colab-df-container {\n",
              "      display:flex;\n",
              "      gap: 12px;\n",
              "    }\n",
              "\n",
              "    .colab-df-convert {\n",
              "      background-color: #E8F0FE;\n",
              "      border: none;\n",
              "      border-radius: 50%;\n",
              "      cursor: pointer;\n",
              "      display: none;\n",
              "      fill: #1967D2;\n",
              "      height: 32px;\n",
              "      padding: 0 0 0 0;\n",
              "      width: 32px;\n",
              "    }\n",
              "\n",
              "    .colab-df-convert:hover {\n",
              "      background-color: #E2EBFA;\n",
              "      box-shadow: 0px 1px 2px rgba(60, 64, 67, 0.3), 0px 1px 3px 1px rgba(60, 64, 67, 0.15);\n",
              "      fill: #174EA6;\n",
              "    }\n",
              "\n",
              "    .colab-df-buttons div {\n",
              "      margin-bottom: 4px;\n",
              "    }\n",
              "\n",
              "    [theme=dark] .colab-df-convert {\n",
              "      background-color: #3B4455;\n",
              "      fill: #D2E3FC;\n",
              "    }\n",
              "\n",
              "    [theme=dark] .colab-df-convert:hover {\n",
              "      background-color: #434B5C;\n",
              "      box-shadow: 0px 1px 3px 1px rgba(0, 0, 0, 0.15);\n",
              "      filter: drop-shadow(0px 1px 2px rgba(0, 0, 0, 0.3));\n",
              "      fill: #FFFFFF;\n",
              "    }\n",
              "  </style>\n",
              "\n",
              "    <script>\n",
              "      const buttonEl =\n",
              "        document.querySelector('#df-25882f4a-e4a7-41bf-a7f2-28b253020104 button.colab-df-convert');\n",
              "      buttonEl.style.display =\n",
              "        google.colab.kernel.accessAllowed ? 'block' : 'none';\n",
              "\n",
              "      async function convertToInteractive(key) {\n",
              "        const element = document.querySelector('#df-25882f4a-e4a7-41bf-a7f2-28b253020104');\n",
              "        const dataTable =\n",
              "          await google.colab.kernel.invokeFunction('convertToInteractive',\n",
              "                                                    [key], {});\n",
              "        if (!dataTable) return;\n",
              "\n",
              "        const docLinkHtml = 'Like what you see? Visit the ' +\n",
              "          '<a target=\"_blank\" href=https://colab.research.google.com/notebooks/data_table.ipynb>data table notebook</a>'\n",
              "          + ' to learn more about interactive tables.';\n",
              "        element.innerHTML = '';\n",
              "        dataTable['output_type'] = 'display_data';\n",
              "        await google.colab.output.renderOutput(dataTable, element);\n",
              "        const docLink = document.createElement('div');\n",
              "        docLink.innerHTML = docLinkHtml;\n",
              "        element.appendChild(docLink);\n",
              "      }\n",
              "    </script>\n",
              "  </div>\n",
              "\n",
              "\n",
              "    <div id=\"df-2666810e-da61-4fc4-beac-7b6b1e9328ec\">\n",
              "      <button class=\"colab-df-quickchart\" onclick=\"quickchart('df-2666810e-da61-4fc4-beac-7b6b1e9328ec')\"\n",
              "                title=\"Suggest charts\"\n",
              "                style=\"display:none;\">\n",
              "\n",
              "<svg xmlns=\"http://www.w3.org/2000/svg\" height=\"24px\"viewBox=\"0 0 24 24\"\n",
              "     width=\"24px\">\n",
              "    <g>\n",
              "        <path d=\"M19 3H5c-1.1 0-2 .9-2 2v14c0 1.1.9 2 2 2h14c1.1 0 2-.9 2-2V5c0-1.1-.9-2-2-2zM9 17H7v-7h2v7zm4 0h-2V7h2v10zm4 0h-2v-4h2v4z\"/>\n",
              "    </g>\n",
              "</svg>\n",
              "      </button>\n",
              "\n",
              "<style>\n",
              "  .colab-df-quickchart {\n",
              "      --bg-color: #E8F0FE;\n",
              "      --fill-color: #1967D2;\n",
              "      --hover-bg-color: #E2EBFA;\n",
              "      --hover-fill-color: #174EA6;\n",
              "      --disabled-fill-color: #AAA;\n",
              "      --disabled-bg-color: #DDD;\n",
              "  }\n",
              "\n",
              "  [theme=dark] .colab-df-quickchart {\n",
              "      --bg-color: #3B4455;\n",
              "      --fill-color: #D2E3FC;\n",
              "      --hover-bg-color: #434B5C;\n",
              "      --hover-fill-color: #FFFFFF;\n",
              "      --disabled-bg-color: #3B4455;\n",
              "      --disabled-fill-color: #666;\n",
              "  }\n",
              "\n",
              "  .colab-df-quickchart {\n",
              "    background-color: var(--bg-color);\n",
              "    border: none;\n",
              "    border-radius: 50%;\n",
              "    cursor: pointer;\n",
              "    display: none;\n",
              "    fill: var(--fill-color);\n",
              "    height: 32px;\n",
              "    padding: 0;\n",
              "    width: 32px;\n",
              "  }\n",
              "\n",
              "  .colab-df-quickchart:hover {\n",
              "    background-color: var(--hover-bg-color);\n",
              "    box-shadow: 0 1px 2px rgba(60, 64, 67, 0.3), 0 1px 3px 1px rgba(60, 64, 67, 0.15);\n",
              "    fill: var(--button-hover-fill-color);\n",
              "  }\n",
              "\n",
              "  .colab-df-quickchart-complete:disabled,\n",
              "  .colab-df-quickchart-complete:disabled:hover {\n",
              "    background-color: var(--disabled-bg-color);\n",
              "    fill: var(--disabled-fill-color);\n",
              "    box-shadow: none;\n",
              "  }\n",
              "\n",
              "  .colab-df-spinner {\n",
              "    border: 2px solid var(--fill-color);\n",
              "    border-color: transparent;\n",
              "    border-bottom-color: var(--fill-color);\n",
              "    animation:\n",
              "      spin 1s steps(1) infinite;\n",
              "  }\n",
              "\n",
              "  @keyframes spin {\n",
              "    0% {\n",
              "      border-color: transparent;\n",
              "      border-bottom-color: var(--fill-color);\n",
              "      border-left-color: var(--fill-color);\n",
              "    }\n",
              "    20% {\n",
              "      border-color: transparent;\n",
              "      border-left-color: var(--fill-color);\n",
              "      border-top-color: var(--fill-color);\n",
              "    }\n",
              "    30% {\n",
              "      border-color: transparent;\n",
              "      border-left-color: var(--fill-color);\n",
              "      border-top-color: var(--fill-color);\n",
              "      border-right-color: var(--fill-color);\n",
              "    }\n",
              "    40% {\n",
              "      border-color: transparent;\n",
              "      border-right-color: var(--fill-color);\n",
              "      border-top-color: var(--fill-color);\n",
              "    }\n",
              "    60% {\n",
              "      border-color: transparent;\n",
              "      border-right-color: var(--fill-color);\n",
              "    }\n",
              "    80% {\n",
              "      border-color: transparent;\n",
              "      border-right-color: var(--fill-color);\n",
              "      border-bottom-color: var(--fill-color);\n",
              "    }\n",
              "    90% {\n",
              "      border-color: transparent;\n",
              "      border-bottom-color: var(--fill-color);\n",
              "    }\n",
              "  }\n",
              "</style>\n",
              "\n",
              "      <script>\n",
              "        async function quickchart(key) {\n",
              "          const quickchartButtonEl =\n",
              "            document.querySelector('#' + key + ' button');\n",
              "          quickchartButtonEl.disabled = true;  // To prevent multiple clicks.\n",
              "          quickchartButtonEl.classList.add('colab-df-spinner');\n",
              "          try {\n",
              "            const charts = await google.colab.kernel.invokeFunction(\n",
              "                'suggestCharts', [key], {});\n",
              "          } catch (error) {\n",
              "            console.error('Error during call to suggestCharts:', error);\n",
              "          }\n",
              "          quickchartButtonEl.classList.remove('colab-df-spinner');\n",
              "          quickchartButtonEl.classList.add('colab-df-quickchart-complete');\n",
              "        }\n",
              "        (() => {\n",
              "          let quickchartButtonEl =\n",
              "            document.querySelector('#df-2666810e-da61-4fc4-beac-7b6b1e9328ec button');\n",
              "          quickchartButtonEl.style.display =\n",
              "            google.colab.kernel.accessAllowed ? 'block' : 'none';\n",
              "        })();\n",
              "      </script>\n",
              "    </div>\n",
              "\n",
              "    </div>\n",
              "  </div>\n"
            ],
            "application/vnd.google.colaboratory.intrinsic+json": {
              "type": "dataframe",
              "variable_name": "data",
              "summary": "{\n  \"name\": \"data\",\n  \"rows\": 8807,\n  \"fields\": [\n    {\n      \"column\": \"show_id\",\n      \"properties\": {\n        \"dtype\": \"string\",\n        \"num_unique_values\": 8807,\n        \"samples\": [\n          \"s4971\",\n          \"s3363\",\n          \"s5495\"\n        ],\n        \"semantic_type\": \"\",\n        \"description\": \"\"\n      }\n    },\n    {\n      \"column\": \"type\",\n      \"properties\": {\n        \"dtype\": \"category\",\n        \"num_unique_values\": 2,\n        \"samples\": [\n          \"TV Show\",\n          \"Movie\"\n        ],\n        \"semantic_type\": \"\",\n        \"description\": \"\"\n      }\n    },\n    {\n      \"column\": \"title\",\n      \"properties\": {\n        \"dtype\": \"string\",\n        \"num_unique_values\": 8807,\n        \"samples\": [\n          \"Game Over, Man!\",\n          \"Arsenio Hall: Smart & Classy\"\n        ],\n        \"semantic_type\": \"\",\n        \"description\": \"\"\n      }\n    },\n    {\n      \"column\": \"director\",\n      \"properties\": {\n        \"dtype\": \"string\",\n        \"num_unique_values\": 4528,\n        \"samples\": [\n          \"Kanwal Sethi\",\n          \"R\\u00e9my Four, Julien War\"\n        ],\n        \"semantic_type\": \"\",\n        \"description\": \"\"\n      }\n    },\n    {\n      \"column\": \"cast\",\n      \"properties\": {\n        \"dtype\": \"string\",\n        \"num_unique_values\": 7692,\n        \"samples\": [\n          \"Tzi Ma, Christine Ko, Hong-Chi Lee, Hayden Szeto, Kunjue Li, Fiona Fu, James Saito, Joan Chen\",\n          \"Priyanshu Painyuli, Chandrachoor Rai, Shadab Kamal, Rajeev Siddhartha, Sheetal Thakur, Ninad Kamat, Swati Semwal, Eijaz Khan\"\n        ],\n        \"semantic_type\": \"\",\n        \"description\": \"\"\n      }\n    },\n    {\n      \"column\": \"country\",\n      \"properties\": {\n        \"dtype\": \"category\",\n        \"num_unique_values\": 748,\n        \"samples\": [\n          \"United States, United Kingdom, Denmark, Sweden\",\n          \"United Kingdom, Hong Kong\"\n        ],\n        \"semantic_type\": \"\",\n        \"description\": \"\"\n      }\n    },\n    {\n      \"column\": \"date_added\",\n      \"properties\": {\n        \"dtype\": \"category\",\n        \"num_unique_values\": 1767,\n        \"samples\": [\n          \"October 22, 2018\",\n          \"January 29, 2021\"\n        ],\n        \"semantic_type\": \"\",\n        \"description\": \"\"\n      }\n    },\n    {\n      \"column\": \"release_year\",\n      \"properties\": {\n        \"dtype\": \"number\",\n        \"std\": 8,\n        \"min\": 1925,\n        \"max\": 2021,\n        \"num_unique_values\": 74,\n        \"samples\": [\n          1996,\n          1969\n        ],\n        \"semantic_type\": \"\",\n        \"description\": \"\"\n      }\n    },\n    {\n      \"column\": \"rating\",\n      \"properties\": {\n        \"dtype\": \"category\",\n        \"num_unique_values\": 17,\n        \"samples\": [\n          \"PG-13\",\n          \"TV-MA\"\n        ],\n        \"semantic_type\": \"\",\n        \"description\": \"\"\n      }\n    },\n    {\n      \"column\": \"duration\",\n      \"properties\": {\n        \"dtype\": \"category\",\n        \"num_unique_values\": 220,\n        \"samples\": [\n          \"37 min\",\n          \"177 min\"\n        ],\n        \"semantic_type\": \"\",\n        \"description\": \"\"\n      }\n    },\n    {\n      \"column\": \"listed_in\",\n      \"properties\": {\n        \"dtype\": \"category\",\n        \"num_unique_values\": 514,\n        \"samples\": [\n          \"Crime TV Shows, International TV Shows, TV Mysteries\",\n          \"Children & Family Movies, Classic Movies, Dramas\"\n        ],\n        \"semantic_type\": \"\",\n        \"description\": \"\"\n      }\n    },\n    {\n      \"column\": \"description\",\n      \"properties\": {\n        \"dtype\": \"string\",\n        \"num_unique_values\": 8775,\n        \"samples\": [\n          \"A heedless teen drifter who falls for a small-town waitress makes the mistake of robbing a drug lord, putting his life and newfound love in jeopardy.\",\n          \"Twelve-year-old Calvin manages to join the navy and serves in the battle of Guadalcanal. But when his age is revealed, the boy is sent to the brig.\"\n        ],\n        \"semantic_type\": \"\",\n        \"description\": \"\"\n      }\n    }\n  ]\n}"
            }
          },
          "metadata": {},
          "execution_count": 5
        }
      ]
    },
    {
      "cell_type": "markdown",
      "source": [
        "Finding missing values"
      ],
      "metadata": {
        "id": "SeaKhUSNIyeb"
      }
    },
    {
      "cell_type": "code",
      "source": [
        "data.isnull().sum()"
      ],
      "metadata": {
        "colab": {
          "base_uri": "https://localhost:8080/",
          "height": 460
        },
        "id": "r3TjyGJXfYqp",
        "outputId": "4ff3ae5c-989e-4f3a-ffe9-a1b2469e548a"
      },
      "execution_count": null,
      "outputs": [
        {
          "output_type": "execute_result",
          "data": {
            "text/plain": [
              "show_id            0\n",
              "type               0\n",
              "title              0\n",
              "director        2634\n",
              "cast             825\n",
              "country          831\n",
              "date_added        10\n",
              "release_year       0\n",
              "rating             4\n",
              "duration           3\n",
              "listed_in          0\n",
              "description        0\n",
              "dtype: int64"
            ],
            "text/html": [
              "<div>\n",
              "<style scoped>\n",
              "    .dataframe tbody tr th:only-of-type {\n",
              "        vertical-align: middle;\n",
              "    }\n",
              "\n",
              "    .dataframe tbody tr th {\n",
              "        vertical-align: top;\n",
              "    }\n",
              "\n",
              "    .dataframe thead th {\n",
              "        text-align: right;\n",
              "    }\n",
              "</style>\n",
              "<table border=\"1\" class=\"dataframe\">\n",
              "  <thead>\n",
              "    <tr style=\"text-align: right;\">\n",
              "      <th></th>\n",
              "      <th>0</th>\n",
              "    </tr>\n",
              "  </thead>\n",
              "  <tbody>\n",
              "    <tr>\n",
              "      <th>show_id</th>\n",
              "      <td>0</td>\n",
              "    </tr>\n",
              "    <tr>\n",
              "      <th>type</th>\n",
              "      <td>0</td>\n",
              "    </tr>\n",
              "    <tr>\n",
              "      <th>title</th>\n",
              "      <td>0</td>\n",
              "    </tr>\n",
              "    <tr>\n",
              "      <th>director</th>\n",
              "      <td>2634</td>\n",
              "    </tr>\n",
              "    <tr>\n",
              "      <th>cast</th>\n",
              "      <td>825</td>\n",
              "    </tr>\n",
              "    <tr>\n",
              "      <th>country</th>\n",
              "      <td>831</td>\n",
              "    </tr>\n",
              "    <tr>\n",
              "      <th>date_added</th>\n",
              "      <td>10</td>\n",
              "    </tr>\n",
              "    <tr>\n",
              "      <th>release_year</th>\n",
              "      <td>0</td>\n",
              "    </tr>\n",
              "    <tr>\n",
              "      <th>rating</th>\n",
              "      <td>4</td>\n",
              "    </tr>\n",
              "    <tr>\n",
              "      <th>duration</th>\n",
              "      <td>3</td>\n",
              "    </tr>\n",
              "    <tr>\n",
              "      <th>listed_in</th>\n",
              "      <td>0</td>\n",
              "    </tr>\n",
              "    <tr>\n",
              "      <th>description</th>\n",
              "      <td>0</td>\n",
              "    </tr>\n",
              "  </tbody>\n",
              "</table>\n",
              "</div><br><label><b>dtype:</b> int64</label>"
            ]
          },
          "metadata": {},
          "execution_count": 7
        }
      ]
    },
    {
      "cell_type": "markdown",
      "source": [
        "Removing duplicate values"
      ],
      "metadata": {
        "id": "duWstmg7I733"
      }
    },
    {
      "cell_type": "code",
      "source": [
        "data.drop_duplicates(inplace=True)"
      ],
      "metadata": {
        "id": "zGaGaBdYfYoc"
      },
      "execution_count": null,
      "outputs": []
    },
    {
      "cell_type": "markdown",
      "source": [
        "Filling missing values\n"
      ],
      "metadata": {
        "id": "e0GHhfe4I_bU"
      }
    },
    {
      "cell_type": "code",
      "source": [
        "data['director']= data['director'].fillna('Not specified')"
      ],
      "metadata": {
        "id": "QoXDTOGXfYmD"
      },
      "execution_count": null,
      "outputs": []
    },
    {
      "cell_type": "code",
      "source": [
        "data['cast']=data['cast'].fillna('Not specified')"
      ],
      "metadata": {
        "id": "0HVwt5VqfYj_"
      },
      "execution_count": null,
      "outputs": []
    },
    {
      "cell_type": "code",
      "source": [
        "data['country']=data['country'].fillna('Unknown')"
      ],
      "metadata": {
        "id": "tzjGtgUEfYhc"
      },
      "execution_count": null,
      "outputs": []
    },
    {
      "cell_type": "markdown",
      "source": [
        "Convert date_added to datetime"
      ],
      "metadata": {
        "id": "IJszaDWKJJrr"
      }
    },
    {
      "cell_type": "code",
      "source": [
        "data['date_added']=pd.to_datetime(data['date_added'],format = 'mixed',errors='coerce')\n",
        "data['date_added']=data['date_added'].fillna(method='ffill')"
      ],
      "metadata": {
        "colab": {
          "base_uri": "https://localhost:8080/"
        },
        "id": "4KtyBJnRfYeX",
        "outputId": "60dd0aa0-db2a-4975-9a9c-f65bfe49c68f"
      },
      "execution_count": null,
      "outputs": [
        {
          "output_type": "stream",
          "name": "stderr",
          "text": [
            "<ipython-input-17-160267ab6b45>:2: FutureWarning: Series.fillna with 'method' is deprecated and will raise in a future version. Use obj.ffill() or obj.bfill() instead.\n",
            "  data['date_added']=data['date_added'].fillna(method='ffill')\n"
          ]
        }
      ]
    },
    {
      "cell_type": "markdown",
      "source": [
        "Filling missing values"
      ],
      "metadata": {
        "id": "1FefXFjjJPms"
      }
    },
    {
      "cell_type": "code",
      "source": [
        "data['rating']=data['rating'].fillna('Not specified')"
      ],
      "metadata": {
        "id": "538OXOuGfYcK"
      },
      "execution_count": null,
      "outputs": []
    },
    {
      "cell_type": "markdown",
      "source": [
        "Duration cleaning"
      ],
      "metadata": {
        "id": "I3dms9uNi_Ct"
      }
    },
    {
      "cell_type": "code",
      "source": [
        "data['duration']=data['duration'].fillna('0 min')\n"
      ],
      "metadata": {
        "id": "qshKhEXhfYU5"
      },
      "execution_count": null,
      "outputs": []
    },
    {
      "cell_type": "code",
      "source": [
        "extracted = data['duration'].str.extract('(\\d+)')\n",
        "data['duration_int'] = extracted.fillna(0).astype(int)\n",
        "\n",
        "\n",
        "data['duration_type']=data['duration'].str.extract('(a-zA-Z)+').iloc[:,0].str.strip()"
      ],
      "metadata": {
        "id": "KB9dHTAnfYST"
      },
      "execution_count": null,
      "outputs": []
    },
    {
      "cell_type": "markdown",
      "source": [
        "Text cleaning"
      ],
      "metadata": {
        "id": "b8-T_5PpJZx8"
      }
    },
    {
      "cell_type": "code",
      "source": [
        "data['type']=data['type'].str.lower().str.strip()"
      ],
      "metadata": {
        "id": "-u2y_pJDjDJb"
      },
      "execution_count": null,
      "outputs": []
    },
    {
      "cell_type": "code",
      "source": [
        "data['rating']=data['rating'].str.upper().str.strip()"
      ],
      "metadata": {
        "id": "BE_MomfzjDHN"
      },
      "execution_count": null,
      "outputs": []
    },
    {
      "cell_type": "code",
      "source": [
        "data['listed_in']=data['listed_in'].str.split(', ')\n"
      ],
      "metadata": {
        "id": "fvYccLLkjDEr"
      },
      "execution_count": null,
      "outputs": []
    },
    {
      "cell_type": "code",
      "source": [
        "data['country']=data['country'].str.split(', ')"
      ],
      "metadata": {
        "id": "xNZd69OPjDCa"
      },
      "execution_count": null,
      "outputs": []
    },
    {
      "cell_type": "code",
      "source": [
        "data['cast']=data['cast'].str.split(' ,')"
      ],
      "metadata": {
        "id": "0OjP2VEmjDAL"
      },
      "execution_count": null,
      "outputs": []
    },
    {
      "cell_type": "markdown",
      "source": [
        "print data"
      ],
      "metadata": {
        "id": "xWKJYMrBJct_"
      }
    },
    {
      "cell_type": "code",
      "source": [
        "print(data.info())"
      ],
      "metadata": {
        "colab": {
          "base_uri": "https://localhost:8080/"
        },
        "id": "Fa4prtsPjC9z",
        "outputId": "3d575708-bce9-4306-f488-7b873f038364"
      },
      "execution_count": null,
      "outputs": [
        {
          "output_type": "stream",
          "name": "stdout",
          "text": [
            "<class 'pandas.core.frame.DataFrame'>\n",
            "RangeIndex: 8807 entries, 0 to 8806\n",
            "Data columns (total 14 columns):\n",
            " #   Column         Non-Null Count  Dtype         \n",
            "---  ------         --------------  -----         \n",
            " 0   show_id        8807 non-null   object        \n",
            " 1   type           8807 non-null   object        \n",
            " 2   title          8807 non-null   object        \n",
            " 3   director       8807 non-null   object        \n",
            " 4   cast           0 non-null      float64       \n",
            " 5   country        0 non-null      float64       \n",
            " 6   date_added     8807 non-null   datetime64[ns]\n",
            " 7   release_year   8807 non-null   int64         \n",
            " 8   rating         8807 non-null   object        \n",
            " 9   duration       8807 non-null   object        \n",
            " 10  listed_in      8807 non-null   object        \n",
            " 11  description    8807 non-null   object        \n",
            " 12  duration_int   8807 non-null   int64         \n",
            " 13  duration_type  0 non-null      object        \n",
            "dtypes: datetime64[ns](1), float64(2), int64(2), object(9)\n",
            "memory usage: 963.4+ KB\n",
            "None\n"
          ]
        }
      ]
    },
    {
      "cell_type": "markdown",
      "source": [
        "verifying if data is cleaned"
      ],
      "metadata": {
        "id": "S_zmO1UKJewb"
      }
    },
    {
      "cell_type": "code",
      "source": [
        "print(data.isnull().sum())"
      ],
      "metadata": {
        "colab": {
          "base_uri": "https://localhost:8080/"
        },
        "id": "N5JiGbVmjC7m",
        "outputId": "364fdaa3-d87b-4fb3-98bf-a81171648f04"
      },
      "execution_count": null,
      "outputs": [
        {
          "output_type": "stream",
          "name": "stdout",
          "text": [
            "show_id             0\n",
            "type                0\n",
            "title               0\n",
            "director            0\n",
            "cast             8807\n",
            "country          8807\n",
            "date_added          0\n",
            "release_year        0\n",
            "rating              0\n",
            "duration            0\n",
            "listed_in           0\n",
            "description         0\n",
            "duration_int        0\n",
            "duration_type    8807\n",
            "dtype: int64\n"
          ]
        }
      ]
    },
    {
      "cell_type": "markdown",
      "source": [
        "data not cleaned"
      ],
      "metadata": {
        "id": "vzwiJN3uJiW3"
      }
    },
    {
      "cell_type": "code",
      "source": [
        "data.loc[data['duration_type'].isna(), 'duration'].unique()\n"
      ],
      "metadata": {
        "colab": {
          "base_uri": "https://localhost:8080/"
        },
        "id": "o0lzsZ0KjC49",
        "outputId": "cfa06370-d767-4c85-dcef-50fa395e299b"
      },
      "execution_count": null,
      "outputs": [
        {
          "output_type": "execute_result",
          "data": {
            "text/plain": [
              "array(['90 min', '2 Seasons', '1 Season', '91 min', '125 min',\n",
              "       '9 Seasons', '104 min', '127 min', '4 Seasons', '67 min', '94 min',\n",
              "       '5 Seasons', '161 min', '61 min', '166 min', '147 min', '103 min',\n",
              "       '97 min', '106 min', '111 min', '3 Seasons', '110 min', '105 min',\n",
              "       '96 min', '124 min', '116 min', '98 min', '23 min', '115 min',\n",
              "       '122 min', '99 min', '88 min', '100 min', '6 Seasons', '102 min',\n",
              "       '93 min', '95 min', '85 min', '83 min', '113 min', '13 min',\n",
              "       '182 min', '48 min', '145 min', '87 min', '92 min', '80 min',\n",
              "       '117 min', '128 min', '119 min', '143 min', '114 min', '118 min',\n",
              "       '108 min', '63 min', '121 min', '142 min', '154 min', '120 min',\n",
              "       '82 min', '109 min', '101 min', '86 min', '229 min', '76 min',\n",
              "       '89 min', '156 min', '112 min', '107 min', '129 min', '135 min',\n",
              "       '136 min', '165 min', '150 min', '133 min', '70 min', '84 min',\n",
              "       '140 min', '78 min', '7 Seasons', '64 min', '59 min', '139 min',\n",
              "       '69 min', '148 min', '189 min', '141 min', '130 min', '138 min',\n",
              "       '81 min', '132 min', '10 Seasons', '123 min', '65 min', '68 min',\n",
              "       '66 min', '62 min', '74 min', '131 min', '39 min', '46 min',\n",
              "       '38 min', '8 Seasons', '17 Seasons', '126 min', '155 min',\n",
              "       '159 min', '137 min', '12 min', '273 min', '36 min', '34 min',\n",
              "       '77 min', '60 min', '49 min', '58 min', '72 min', '204 min',\n",
              "       '212 min', '25 min', '73 min', '29 min', '47 min', '32 min',\n",
              "       '35 min', '71 min', '149 min', '33 min', '15 min', '54 min',\n",
              "       '224 min', '162 min', '37 min', '75 min', '79 min', '55 min',\n",
              "       '158 min', '164 min', '173 min', '181 min', '185 min', '21 min',\n",
              "       '24 min', '51 min', '151 min', '42 min', '22 min', '134 min',\n",
              "       '177 min', '13 Seasons', '52 min', '14 min', '53 min', '8 min',\n",
              "       '57 min', '28 min', '50 min', '9 min', '26 min', '45 min',\n",
              "       '171 min', '27 min', '44 min', '146 min', '20 min', '157 min',\n",
              "       '17 min', '203 min', '41 min', '30 min', '194 min', '15 Seasons',\n",
              "       '233 min', '237 min', '230 min', '195 min', '253 min', '152 min',\n",
              "       '190 min', '160 min', '208 min', '180 min', '144 min', '5 min',\n",
              "       '174 min', '170 min', '192 min', '209 min', '187 min', '172 min',\n",
              "       '16 min', '186 min', '11 min', '193 min', '176 min', '56 min',\n",
              "       '169 min', '40 min', '10 min', '3 min', '168 min', '312 min',\n",
              "       '153 min', '214 min', '31 min', '163 min', '19 min', '12 Seasons',\n",
              "       'Not known', '179 min', '11 Seasons', '43 min', '200 min',\n",
              "       '196 min', '167 min', '178 min', '228 min', '18 min', '205 min',\n",
              "       '201 min', '191 min'], dtype=object)"
            ]
          },
          "metadata": {},
          "execution_count": 40
        }
      ]
    },
    {
      "cell_type": "markdown",
      "source": [
        "To analyze duration numerically"
      ],
      "metadata": {
        "id": "hKoRDWMcKGn3"
      }
    },
    {
      "cell_type": "code",
      "source": [
        "data['duration'] = data['duration'].fillna('0 min')  # or '1 Season' if most are shows\n",
        "\n",
        "# Re-extract\n",
        "data['duration_int'] = data['duration'].str.extract('(\\d+)').fillna(0).astype(int)\n",
        "data['duration_type'] = data['duration'].str.extract('([a-zA-Z]+)').iloc[:, 0].str.strip()\n"
      ],
      "metadata": {
        "id": "pGXcXDoqjB4d"
      },
      "execution_count": null,
      "outputs": []
    },
    {
      "cell_type": "markdown",
      "source": [
        "filling missing values"
      ],
      "metadata": {
        "id": "lVaOewCgKKJO"
      }
    },
    {
      "cell_type": "code",
      "source": [
        "data['cast'] = data['cast'].fillna('Not Specified')\n",
        "data['country'] = data['country'].fillna('Unknown')\n"
      ],
      "metadata": {
        "id": "fXlATbPEjCWG"
      },
      "execution_count": null,
      "outputs": []
    },
    {
      "cell_type": "markdown",
      "source": [
        "check for data cleaned or not"
      ],
      "metadata": {
        "id": "-R1oh0e_KMQV"
      }
    },
    {
      "cell_type": "code",
      "source": [
        "print(data.info())"
      ],
      "metadata": {
        "colab": {
          "base_uri": "https://localhost:8080/"
        },
        "id": "hYfvyOQijCYt",
        "outputId": "2eb7b67e-74ad-47c2-ef14-2a245280954a"
      },
      "execution_count": null,
      "outputs": [
        {
          "output_type": "stream",
          "name": "stdout",
          "text": [
            "<class 'pandas.core.frame.DataFrame'>\n",
            "Index: 0 entries\n",
            "Data columns (total 14 columns):\n",
            " #   Column         Non-Null Count  Dtype         \n",
            "---  ------         --------------  -----         \n",
            " 0   show_id        0 non-null      object        \n",
            " 1   type           0 non-null      object        \n",
            " 2   title          0 non-null      object        \n",
            " 3   director       0 non-null      object        \n",
            " 4   cast           0 non-null      float64       \n",
            " 5   country        0 non-null      float64       \n",
            " 6   date_added     0 non-null      datetime64[ns]\n",
            " 7   release_year   0 non-null      int64         \n",
            " 8   rating         0 non-null      object        \n",
            " 9   duration       0 non-null      object        \n",
            " 10  listed_in      0 non-null      object        \n",
            " 11  description    0 non-null      object        \n",
            " 12  duration_int   0 non-null      int64         \n",
            " 13  duration_type  0 non-null      object        \n",
            "dtypes: datetime64[ns](1), float64(2), int64(2), object(9)\n",
            "memory usage: 0.0+ bytes\n",
            "None\n"
          ]
        }
      ]
    },
    {
      "cell_type": "code",
      "source": [
        "print(data.isnull().sum())"
      ],
      "metadata": {
        "colab": {
          "base_uri": "https://localhost:8080/"
        },
        "id": "S9Gz_a3UjCa9",
        "outputId": "da581ee9-a79f-4a8e-90d9-3668fb4b2ad3"
      },
      "execution_count": null,
      "outputs": [
        {
          "output_type": "stream",
          "name": "stdout",
          "text": [
            "show_id          0\n",
            "type             0\n",
            "title            0\n",
            "director         0\n",
            "cast             0\n",
            "country          0\n",
            "date_added       0\n",
            "release_year     0\n",
            "rating           0\n",
            "duration         0\n",
            "listed_in        0\n",
            "description      0\n",
            "duration_int     0\n",
            "duration_type    0\n",
            "dtype: int64\n"
          ]
        }
      ]
    },
    {
      "cell_type": "markdown",
      "source": [
        "**DATA CLEANING DONE**"
      ],
      "metadata": {
        "id": "9icqt6X4m7P0"
      }
    },
    {
      "cell_type": "markdown",
      "source": [
        "DATA PREPROCESSING"
      ],
      "metadata": {
        "id": "p0foIlb3nAHE"
      }
    },
    {
      "cell_type": "markdown",
      "source": [
        "Converts Datatype to categories"
      ],
      "metadata": {
        "id": "dyBJw1kRKW3R"
      }
    },
    {
      "cell_type": "code",
      "source": [
        "data['type']=data['type'].astype('category')"
      ],
      "metadata": {
        "id": "BSaFS6zp78Js"
      },
      "execution_count": null,
      "outputs": []
    },
    {
      "cell_type": "code",
      "source": [
        "data['rating']=data['rating'].astype('category')"
      ],
      "metadata": {
        "id": "ZtTuR88Em7A_"
      },
      "execution_count": null,
      "outputs": []
    },
    {
      "cell_type": "code",
      "source": [
        "data['duration_type']=data['duration_type'].astype('category')"
      ],
      "metadata": {
        "id": "tbtOYm0Om6-3"
      },
      "execution_count": null,
      "outputs": []
    },
    {
      "cell_type": "markdown",
      "source": [
        "Counts the no. of times a genre repeats"
      ],
      "metadata": {
        "id": "so0Q1p6MKiFt"
      }
    },
    {
      "cell_type": "code",
      "source": [
        "data['genres']=data['listed_in'].apply(lambda x:x.split(' , '))"
      ],
      "metadata": {
        "id": "SZoqZ44nm67q"
      },
      "execution_count": null,
      "outputs": []
    },
    {
      "cell_type": "markdown",
      "source": [
        "Useful for time based analysis"
      ],
      "metadata": {
        "id": "jYmWG3lXKsHS"
      }
    },
    {
      "cell_type": "code",
      "source": [
        "data['year_added']=data['date_added'].dt.year"
      ],
      "metadata": {
        "id": "vTKlNjfPm64x"
      },
      "execution_count": null,
      "outputs": []
    },
    {
      "cell_type": "code",
      "source": [
        "\n",
        "data['month_added'] = data['date_added'].dt.month\n",
        "\n"
      ],
      "metadata": {
        "id": "qCF1Zl8-m616"
      },
      "execution_count": null,
      "outputs": []
    },
    {
      "cell_type": "code",
      "source": [
        "data['quarter_added'] = data['date_added'].dt.quarter"
      ],
      "metadata": {
        "id": "ziA_46kjm6zi"
      },
      "execution_count": null,
      "outputs": []
    },
    {
      "cell_type": "code",
      "source": [
        "print(data.columns)\n",
        "\n"
      ],
      "metadata": {
        "colab": {
          "base_uri": "https://localhost:8080/"
        },
        "id": "E3CrNQnlm6w-",
        "outputId": "198db265-1202-4cb0-97eb-c55c255d3530"
      },
      "execution_count": null,
      "outputs": [
        {
          "output_type": "stream",
          "name": "stdout",
          "text": [
            "Index(['show_id', 'type', 'title', 'director', 'cast', 'country', 'date_added',\n",
            "       'release_year', 'rating', 'duration', 'listed_in', 'description',\n",
            "       'duration_int', 'duration_type', 'genres', 'year_added', 'month_added',\n",
            "       'quarter_added'],\n",
            "      dtype='object')\n"
          ]
        }
      ]
    },
    {
      "cell_type": "markdown",
      "source": [
        "picks first genre in list"
      ],
      "metadata": {
        "id": "oSUDilozKzE3"
      }
    },
    {
      "cell_type": "code",
      "source": [
        "data['primary_genre'] = data['genres'].apply(lambda x: x[0] if isinstance(x, list) else x)\n"
      ],
      "metadata": {
        "id": "r6m3zIhvm6ue"
      },
      "execution_count": null,
      "outputs": []
    },
    {
      "cell_type": "markdown",
      "source": [
        "first country listed"
      ],
      "metadata": {
        "id": "0_prcPkuK1YL"
      }
    },
    {
      "cell_type": "code",
      "source": [
        "data['main_country'] = data['country'].apply(lambda x: x.split(',')[0] if pd.notnull(x) else 'Unknown')\n"
      ],
      "metadata": {
        "id": "lOU59toEm6sR"
      },
      "execution_count": null,
      "outputs": []
    },
    {
      "cell_type": "markdown",
      "source": [
        "Necessary for Data anlysis"
      ],
      "metadata": {
        "id": "jHBmknvoK4Y9"
      }
    },
    {
      "cell_type": "code",
      "source": [
        "columns_to_keep = [\n",
        "    'type', 'title', 'release_year', 'rating', 'duration_int',\n",
        "    'duration_type', 'year_added', 'month_added', 'quarter_added',\n",
        "    'primary_genre', 'main_country'\n",
        "]\n",
        "\n",
        "preprocessed_data = data[columns_to_keep]\n"
      ],
      "metadata": {
        "id": "BgQbDvgwm6pP"
      },
      "execution_count": null,
      "outputs": []
    },
    {
      "cell_type": "markdown",
      "source": [
        "cleaned the file and updated it"
      ],
      "metadata": {
        "id": "2E4PE_yuK8iA"
      }
    },
    {
      "cell_type": "code",
      "source": [
        "data.to_csv(\"netflix_cleaned.csv\", index=False)\n"
      ],
      "metadata": {
        "id": "u5VMd7W0m6mA"
      },
      "execution_count": null,
      "outputs": []
    },
    {
      "cell_type": "markdown",
      "source": [
        "File ready for analysis"
      ],
      "metadata": {
        "id": "KD3nF_BfK_Ib"
      }
    },
    {
      "cell_type": "code",
      "source": [],
      "metadata": {
        "id": "Lj0CShYk9lNe"
      },
      "execution_count": null,
      "outputs": []
    },
    {
      "cell_type": "code",
      "source": [],
      "metadata": {
        "id": "kdlfLmxA9lK_"
      },
      "execution_count": null,
      "outputs": []
    },
    {
      "cell_type": "code",
      "source": [],
      "metadata": {
        "id": "-dAAfVfl9lHz"
      },
      "execution_count": null,
      "outputs": []
    },
    {
      "cell_type": "code",
      "source": [],
      "metadata": {
        "id": "wc_OtEEM9lF2"
      },
      "execution_count": null,
      "outputs": []
    },
    {
      "cell_type": "code",
      "source": [],
      "metadata": {
        "id": "F0tZUYNz9lC4"
      },
      "execution_count": null,
      "outputs": []
    }
  ]
}